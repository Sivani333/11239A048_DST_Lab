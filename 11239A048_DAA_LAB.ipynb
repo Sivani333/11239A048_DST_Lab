{
  "nbformat": 4,
  "nbformat_minor": 0,
  "metadata": {
    "colab": {
      "provenance": [],
      "authorship_tag": "ABX9TyNLE1rVkqpB4S4PxAw7xeJo",
      "include_colab_link": true
    },
    "kernelspec": {
      "name": "python3",
      "display_name": "Python 3"
    },
    "language_info": {
      "name": "python"
    }
  },
  "cells": [
    {
      "cell_type": "markdown",
      "metadata": {
        "id": "view-in-github",
        "colab_type": "text"
      },
      "source": [
        "<a href=\"https://colab.research.google.com/github/Sivani333/11239A048_DST_Lab/blob/main/11239A048_DAA_LAB.ipynb\" target=\"_parent\"><img src=\"https://colab.research.google.com/assets/colab-badge.svg\" alt=\"Open In Colab\"/></a>"
      ]
    },
    {
      "cell_type": "markdown",
      "source": [
        "# **1. TOWERS OF HANOI**"
      ],
      "metadata": {
        "id": "gaLdKnrwWdHv"
      }
    },
    {
      "cell_type": "code",
      "execution_count": 1,
      "metadata": {
        "colab": {
          "base_uri": "https://localhost:8080/"
        },
        "id": "XQqDxZUBVFYn",
        "outputId": "94f61cb9-4335-499d-f690-b2531a63946d"
      },
      "outputs": [
        {
          "output_type": "stream",
          "name": "stdout",
          "text": [
            "Move disk 1 from A to C\n",
            "Move disk 2 from A to B\n",
            "Move disk 1 from C to B\n",
            "Move disk 3 from A to C\n",
            "Move disk 1 from B to A\n",
            "Move disk 2 from B to C\n",
            "Move disk 1 from A to C\n"
          ]
        }
      ],
      "source": [
        "def tower_of_hanoi(n, source, target, auxiliary):\n",
        "\n",
        "    if n == 1:\n",
        "        print(f\"Move disk 1 from {source} to {target}\")\n",
        "        return\n",
        "\n",
        "\n",
        "    tower_of_hanoi(n-1, source, auxiliary, target)\n",
        "\n",
        "    print(f\"Move disk {n} from {source} to {target}\")\n",
        "\n",
        "    tower_of_hanoi(n-1, auxiliary, target, source)\n",
        "\n",
        "\n",
        "n = 3\n",
        "tower_of_hanoi(n, 'A', 'C', 'B')\n"
      ]
    },
    {
      "cell_type": "markdown",
      "source": [
        "# **FIBONACCI (ITERATIVE)**"
      ],
      "metadata": {
        "id": "LqBtiGHgXGXa"
      }
    },
    {
      "cell_type": "code",
      "source": [
        "def fibonacci_iterative(n):\n",
        "    fib_series = [0, 1]\n",
        "    for i in range(2, n):\n",
        "        fib_series.append(fib_series[i - 1] + fib_series[i - 2])\n",
        "    return fib_series\n",
        "\n",
        "\n",
        "n = 10\n",
        "print(fibonacci_iterative(n))"
      ],
      "metadata": {
        "colab": {
          "base_uri": "https://localhost:8080/"
        },
        "id": "qvCxl6hCWkdR",
        "outputId": "7f65fb10-3f5e-47f2-cd06-bac0bebb141c"
      },
      "execution_count": 2,
      "outputs": [
        {
          "output_type": "stream",
          "name": "stdout",
          "text": [
            "[0, 1, 1, 2, 3, 5, 8, 13, 21, 34]\n"
          ]
        }
      ]
    },
    {
      "cell_type": "markdown",
      "source": [
        "# FIBONACCI(RECURSIVE)"
      ],
      "metadata": {
        "id": "1GZQ0VuzXbDm"
      }
    },
    {
      "cell_type": "code",
      "source": [
        "def fibonacci_recursive(n):\n",
        "    if n <= 1:\n",
        "        return n\n",
        "    else:\n",
        "        return fibonacci_recursive(n - 1) + fibonacci_recursive(n - 2)\n",
        "\n",
        "\n",
        "n = 10\n",
        "fib_series = [fibonacci_recursive(i) for i in range(n)]\n",
        "print(fib_series)"
      ],
      "metadata": {
        "colab": {
          "base_uri": "https://localhost:8080/"
        },
        "id": "AxSavuxfXlCv",
        "outputId": "9b9e6469-cfb6-467e-8e89-8b1ecd0a14fe"
      },
      "execution_count": 5,
      "outputs": [
        {
          "output_type": "stream",
          "name": "stdout",
          "text": [
            "[0, 1, 1, 2, 3, 5, 8, 13, 21, 34]\n"
          ]
        }
      ]
    },
    {
      "cell_type": "markdown",
      "source": [
        "## **BIN PACKING**"
      ],
      "metadata": {
        "id": "XwzOP7I5X-eV"
      }
    },
    {
      "cell_type": "code",
      "source": [
        "def bin_packing(weights, bin_capacity):\n",
        "    bins = []\n",
        "\n",
        "    for weight in weights:\n",
        "        placed = False\n",
        "\n",
        "\n",
        "        for bin in bins:\n",
        "            if sum(bin) + weight <= bin_capacity:\n",
        "                bin.append(weight)\n",
        "                placed = True\n",
        "                break\n",
        "\n",
        "\n",
        "        if not placed:\n",
        "            bins.append([weight])\n",
        "\n",
        "    return bins\n",
        "\n",
        "\n",
        "weights = [5, 3, 4, 7, 2, 6, 8]\n",
        "bin_capacity = 10\n",
        "bins = bin_packing(weights, bin_capacity)\n",
        "\n",
        "\n",
        "print(f\"Items: {weights}\")\n",
        "print(f\"Bin Capacity: {bin_capacity}\")\n",
        "print(f\"Packed Bins: {bins}\")"
      ],
      "metadata": {
        "colab": {
          "base_uri": "https://localhost:8080/"
        },
        "id": "LPF6IhLBYDRh",
        "outputId": "9093d694-ef9e-454b-c368-c9e497267fc0"
      },
      "execution_count": 6,
      "outputs": [
        {
          "output_type": "stream",
          "name": "stdout",
          "text": [
            "Items: [5, 3, 4, 7, 2, 6, 8]\n",
            "Bin Capacity: 10\n",
            "Packed Bins: [[5, 3, 2], [4, 6], [7], [8]]\n"
          ]
        }
      ]
    },
    {
      "cell_type": "markdown",
      "source": [
        "**KNAPSACK (brute force)**"
      ],
      "metadata": {
        "id": "khZ6eWf_YaKO"
      }
    },
    {
      "cell_type": "code",
      "source": [
        "def knapsack_brute_force(capacity, n):\n",
        "    print(f\"knapsack_brute_force({capacity},{n})\")\n",
        "    if n == 0 or capacity == 0:\n",
        "        return 0\n",
        "\n",
        "    elif weights[n-1] > capacity:\n",
        "        return knapsack_brute_force(capacity, n-1)\n",
        "\n",
        "    else:\n",
        "        include_item = values[n-1] + knapsack_brute_force(capacity-weights[n-1], n-1)\n",
        "        exclude_item = knapsack_brute_force(capacity, n-1)\n",
        "        return max(include_item, exclude_item)\n",
        "\n",
        "values = [300, 200, 400, 500]\n",
        "weights = [2, 1, 5, 3]\n",
        "capacity = 3\n",
        "n = len(values)\n",
        "\n",
        "print(\"\\nMaximum value in Knapsack =\", knapsack_brute_force(capacity, n))"
      ],
      "metadata": {
        "colab": {
          "base_uri": "https://localhost:8080/"
        },
        "id": "nwZoNeUMYcQ8",
        "outputId": "ffcfe979-1046-4285-b702-444976865964"
      },
      "execution_count": 7,
      "outputs": [
        {
          "output_type": "stream",
          "name": "stdout",
          "text": [
            "knapsack_brute_force(3,4)\n",
            "knapsack_brute_force(0,3)\n",
            "knapsack_brute_force(3,3)\n",
            "knapsack_brute_force(3,2)\n",
            "knapsack_brute_force(2,1)\n",
            "knapsack_brute_force(0,0)\n",
            "knapsack_brute_force(2,0)\n",
            "knapsack_brute_force(3,1)\n",
            "knapsack_brute_force(1,0)\n",
            "knapsack_brute_force(3,0)\n",
            "\n",
            "Maximum value in Knapsack = 500\n"
          ]
        }
      ]
    },
    {
      "cell_type": "markdown",
      "source": [
        "**KNAPSACK (bounded)**"
      ],
      "metadata": {
        "id": "BVwd00y4YjAm"
      }
    },
    {
      "cell_type": "code",
      "source": [
        "def bounded_knapsack(capacity, weights, values, quantities):\n",
        "    \"\"\"\n",
        "    Solves the bounded knapsack problem using dynamic programming.\n",
        "\n",
        "    Args:\n",
        "        capacity: The maximum weight capacity of the knapsack.\n",
        "        weights: A list of item weights.\n",
        "        values: A list of item values.\n",
        "        quantities: A list of the maximum number of each item that can be taken.\n",
        "\n",
        "    Returns:\n",
        "        The maximum total value that can be placed in the knapsack.\n",
        "    \"\"\"\n",
        "\n",
        "    n = len(weights)\n",
        "    dp = [[0 for _ in range(capacity + 1)] for _ in range(n + 1)]\n",
        "\n",
        "    for i in range(1, n + 1):\n",
        "        for w in range(1, capacity + 1):\n",
        "            for k in range(quantities[i-1] + 1):\n",
        "                if k * weights[i-1] <= w:\n",
        "                    dp[i][w] = max(dp[i][w], dp[i-1][w - k * weights[i-1]] + k * values[i-1])\n",
        "                else:\n",
        "                    break\n",
        "\n",
        "    return dp[n][capacity]\n",
        "\n",
        "capacity = 10\n",
        "weights = [2, 3, 4, 5]\n",
        "values = [3, 4, 5, 7]\n",
        "quantities = [2, 3, 1, 2]\n",
        "\n",
        "max_value = bounded_knapsack(capacity, weights, values, quantities)\n",
        "print(f\"The maximum value that can be placed in the knapsack is: {max_value}\")"
      ],
      "metadata": {
        "colab": {
          "base_uri": "https://localhost:8080/"
        },
        "id": "kTAeHIG8Ywo8",
        "outputId": "c264639e-f5cf-4e6e-d527-0a2109b3f654"
      },
      "execution_count": 8,
      "outputs": [
        {
          "output_type": "stream",
          "name": "stdout",
          "text": [
            "The maximum value that can be placed in the knapsack is: 14\n"
          ]
        }
      ]
    },
    {
      "cell_type": "markdown",
      "source": [
        "**KNAPSACK (unbounded)**"
      ],
      "metadata": {
        "id": "ENtp5eqIY6Fq"
      }
    },
    {
      "cell_type": "code",
      "source": [
        "def unbounded_knapsack(W, wt, val, n):\n",
        "    dp = [0] * (W + 1)\n",
        "\n",
        "    for i in range(W + 1):\n",
        "        for j in range(n):\n",
        "            if wt[j] <= i:\n",
        "                dp[i] = max(dp[i], dp[i - wt[j]] + val[j])\n",
        "\n",
        "    return dp[W]\n",
        "\n",
        "# Example usage\n",
        "val = [10, 30, 20]\n",
        "wt = [5, 10, 15]\n",
        "W = 100\n",
        "n = len(val)\n",
        "\n",
        "max_value = unbounded_knapsack(W, wt, val, n)\n",
        "print(\"Maximum value we can obtain:\", max_value)\n"
      ],
      "metadata": {
        "colab": {
          "base_uri": "https://localhost:8080/"
        },
        "id": "m64MWZiUZJnt",
        "outputId": "adfc9873-8ccc-47db-ce13-2ac35bd53d62"
      },
      "execution_count": 11,
      "outputs": [
        {
          "output_type": "stream",
          "name": "stdout",
          "text": [
            "Maximum value we can obtain: 300\n"
          ]
        }
      ]
    },
    {
      "cell_type": "markdown",
      "source": [
        "**KNAPSACK (fractional)**"
      ],
      "metadata": {
        "id": "dmRAo7ecZYa8"
      }
    },
    {
      "cell_type": "code",
      "source": [
        "def fractional_knapsack(W, weights, values):\n",
        "    n = len(weights)\n",
        "    # Calculate value-to-weight ratio and store with weight and value\n",
        "    items = [(values[i] / weights[i], weights[i], values[i]) for i in range(n)]\n",
        "    # Sort items by ratio in descending order\n",
        "    items.sort(reverse=True)\n",
        "\n",
        "    total_value = 0.0\n",
        "\n",
        "    for ratio, weight, value in items:\n",
        "        if W >= weight:\n",
        "            # Take the whole item\n",
        "            W -= weight\n",
        "            total_value += value\n",
        "        else:\n",
        "            # Take the fraction of the remaining weight\n",
        "            total_value += ratio * W\n",
        "            break\n",
        "\n",
        "    return total_value\n",
        "\n",
        "# Example usage\n",
        "values = [60, 100, 120]\n",
        "weights = [10, 20, 30]\n",
        "W = 50\n",
        "\n",
        "max_value = fractional_knapsack(W, weights, values)\n",
        "print(\"Maximum value we can obtain:\", max_value)"
      ],
      "metadata": {
        "colab": {
          "base_uri": "https://localhost:8080/"
        },
        "id": "qgLdM2EbZbm-",
        "outputId": "7af653ee-bba4-41e6-a193-184f1f5aa9e4"
      },
      "execution_count": 12,
      "outputs": [
        {
          "output_type": "stream",
          "name": "stdout",
          "text": [
            "Maximum value we can obtain: 240.0\n"
          ]
        }
      ]
    },
    {
      "cell_type": "markdown",
      "source": [
        "TRAVELLING SALES MAN\n",
        "\n"
      ],
      "metadata": {
        "id": "ahmmQ0NAZ5bE"
      }
    },
    {
      "cell_type": "code",
      "source": [
        "import itertools\n",
        "\n",
        "\n",
        "def calculate_total_distance(route, dist_matrix):\n",
        "    total_distance = 0\n",
        "    for i in range(len(route) - 1):\n",
        "        total_distance += dist_matrix[route[i]][route[i + 1]]\n",
        "    total_distance += dist_matrix[route[-1]][route[0]]\n",
        "    return total_distance\n",
        "\n",
        "\n",
        "def traveling_salesman_bruteforce(dist_matrix):\n",
        "    n = len(dist_matrix)\n",
        "    cities = list(range(n))\n",
        "\n",
        "\n",
        "    all_routes = itertools.permutations(cities)\n",
        "\n",
        "    min_distance = float('inf')\n",
        "    best_route = None\n",
        "\n",
        "    for route in all_routes:\n",
        "        total_distance = calculate_total_distance(route, dist_matrix)\n",
        "\n",
        "        if total_distance < min_distance:\n",
        "            min_distance = total_distance\n",
        "            best_route = route\n",
        "\n",
        "    return best_route, min_distance\n",
        "\n",
        "dist_matrix = [\n",
        "    [0, 10, 15, 20, 25],  # Distances from city 0\n",
        "    [10, 0, 35, 25, 30],  # Distances from city 1\n",
        "    [15, 35, 0, 30, 5],   # Distances from city 2\n",
        "    [20, 25, 30, 0, 15],  # Distances from city 3\n",
        "    [25, 30, 5, 15, 0]    # Distances from city 4\n",
        "]\n",
        "\n",
        "\n",
        "best_route, min_distance = traveling_salesman_bruteforce(dist_matrix)\n",
        "\n",
        "\n",
        "print(f\"Best route: {best_route}\")\n",
        "print(f\"Minimum distance: {min_distance}\")"
      ],
      "metadata": {
        "colab": {
          "base_uri": "https://localhost:8080/"
        },
        "id": "KTPikOZraC78",
        "outputId": "a529dae0-10c6-430f-f2eb-ebeff062b388"
      },
      "execution_count": 13,
      "outputs": [
        {
          "output_type": "stream",
          "name": "stdout",
          "text": [
            "Best route: (0, 1, 3, 4, 2)\n",
            "Minimum distance: 70\n"
          ]
        }
      ]
    },
    {
      "cell_type": "markdown",
      "source": [
        "**MINIMUM SPANNING TREE(kruskals algorithm)**"
      ],
      "metadata": {
        "id": "xpNs8r8MaO6E"
      }
    },
    {
      "cell_type": "code",
      "source": [
        "class DisjointSet:\n",
        "    def __init__(self, n):\n",
        "        self.parent = list(range(n))\n",
        "        self.rank = [0] * n\n",
        "\n",
        "    def find(self, u):\n",
        "        if self.parent[u] != u:\n",
        "            self.parent[u] = self.find(self.parent[u])\n",
        "        return self.parent[u]\n",
        "\n",
        "    def union(self, u, v):\n",
        "        root_u = self.find(u)\n",
        "        root_v = self.find(v)\n",
        "\n",
        "        if root_u != root_v:\n",
        "\n",
        "            if self.rank[root_u] > self.rank[root_v]:\n",
        "                self.parent[root_v] = root_u\n",
        "            elif self.rank[root_u] < self.rank[root_v]:\n",
        "                self.parent[root_u] = root_v\n",
        "            else:\n",
        "                self.parent[root_v] = root_u\n",
        "                self.rank[root_u] += 1\n",
        "            return True\n",
        "        return False\n",
        "\n",
        "\n",
        "def kruskal(n, edges):\n",
        "\n",
        "    edges.sort(key=lambda x: x[2])\n",
        "\n",
        "    ds = DisjointSet(n)\n",
        "    mst = []\n",
        "    mst_weight = 0\n",
        "\n",
        "    for u, v, weight in edges:\n",
        "        if ds.union(u, v):\n",
        "            mst.append((u, v, weight))\n",
        "            mst_weight += weight\n",
        "\n",
        "    return mst, mst_weight\n",
        "\n",
        "\n",
        "edges = [\n",
        "    (0, 1, 10),\n",
        "    (0, 2, 6),\n",
        "    (0, 3, 5),\n",
        "    (1, 3, 15),\n",
        "    (2, 3, 4)\n",
        "]\n",
        "n = 4\n",
        "\n",
        "mst, mst_weight = kruskal(n, edges)\n",
        "\n",
        "print(\"Edges in MST:\", mst)\n",
        "print(\"Total weight of MST:\", mst_weight)\n"
      ],
      "metadata": {
        "colab": {
          "base_uri": "https://localhost:8080/"
        },
        "id": "yGy2qfgFaUYO",
        "outputId": "bfb363c8-3faa-40f7-9621-0d11d381692c"
      },
      "execution_count": 15,
      "outputs": [
        {
          "output_type": "stream",
          "name": "stdout",
          "text": [
            "Edges in MST: [(2, 3, 4), (0, 3, 5), (0, 1, 10)]\n",
            "Total weight of MST: 19\n"
          ]
        }
      ]
    },
    {
      "cell_type": "markdown",
      "source": [
        "# **MINIMUM SPANNING TREE(prims algorithm)**"
      ],
      "metadata": {
        "id": "nWzgXHHtanG4"
      }
    },
    {
      "cell_type": "code",
      "source": [
        "import heapq\n",
        "\n",
        "def prims_algorithm(graph, start):\n",
        "\n",
        "    n = len(graph)\n",
        "\n",
        "\n",
        "    mst = []\n",
        "    min_heap = [(0, start)]\n",
        "    visited = set()\n",
        "    total_weight = 0\n",
        "\n",
        "    while min_heap:\n",
        "        weight, node = heapq.heappop(min_heap)\n",
        "\n",
        "        if node not in visited:\n",
        "            visited.add(node)\n",
        "            total_weight += weight\n",
        "            if weight != 0:\n",
        "                mst.append((prev_node, node, weight))\n",
        "\n",
        "\n",
        "            for neighbor, edge_weight in graph[node]:\n",
        "                if neighbor not in visited:\n",
        "                    heapq.heappush(min_heap, (edge_weight, neighbor))\n",
        "                    prev_node = node\n",
        "\n",
        "    return mst, total_weight\n",
        "\n",
        "\n",
        "graph = {\n",
        "    0: [(1, 2), (3, 6)],\n",
        "    1: [(0, 2), (2, 3), (3, 8)],\n",
        "    2: [(1, 3), (3, 5)],\n",
        "    3: [(0, 6), (1, 8), (2, 5)]\n",
        "}\n",
        "\n",
        "\n",
        "start_node = 0\n",
        "mst, mst_weight = prims_algorithm(graph, start_node)\n",
        "\n",
        "print(\"Edges in MST:\", mst)\n",
        "print(\"Total weight of MST:\", mst_weight)\n"
      ],
      "metadata": {
        "colab": {
          "base_uri": "https://localhost:8080/"
        },
        "id": "PV4Kjt--axFo",
        "outputId": "0234f906-6058-4539-ffa4-d4e599a93c25"
      },
      "execution_count": 16,
      "outputs": [
        {
          "output_type": "stream",
          "name": "stdout",
          "text": [
            "Edges in MST: [(0, 1, 2), (1, 2, 3), (2, 3, 5)]\n",
            "Total weight of MST: 10\n"
          ]
        }
      ]
    },
    {
      "cell_type": "markdown",
      "source": [
        "**SHORTEST PATH ALGORITHM(dijkstra algorithm)**"
      ],
      "metadata": {
        "id": "Bhw-yHLWbCxQ"
      }
    },
    {
      "cell_type": "code",
      "source": [
        "import heapq\n",
        "\n",
        "def dijkstra(graph, start):\n",
        "\n",
        "    distances = {node: float('inf') for node in graph}\n",
        "    distances[start] = 0\n",
        "\n",
        "\n",
        "    pq = [(0, start)]\n",
        "\n",
        "    while pq:\n",
        "        current_dist, current_node = heapq.heappop(pq)\n",
        "\n",
        "\n",
        "        if current_dist > distances[current_node]:\n",
        "            continue\n",
        "\n",
        "\n",
        "        for neighbor, weight in graph[current_node]:\n",
        "            distance = current_dist + weight\n",
        "            if distance < distances[neighbor]:\n",
        "                distances[neighbor] = distance\n",
        "                heapq.heappush(pq, (distance, neighbor))\n",
        "\n",
        "    return distances\n",
        "\n",
        "graph = {\n",
        "    0: [(1, 2), (2, 4)],\n",
        "    1: [(0, 2), (2, 1), (3, 7)],\n",
        "    2: [(0, 4), (1, 1), (3, 3)],\n",
        "    3: [(1, 7), (2, 3)]\n",
        "}\n",
        "\n",
        "start_node = 0\n",
        "shortest_paths = dijkstra(graph, start_node)\n",
        "\n",
        "print(f\"Shortest distances from node {start_node}: {shortest_paths}\")\n"
      ],
      "metadata": {
        "colab": {
          "base_uri": "https://localhost:8080/"
        },
        "id": "SU56yKRNbFtC",
        "outputId": "b6fb9009-dbd6-474f-d6f7-3f4cea809a0a"
      },
      "execution_count": 17,
      "outputs": [
        {
          "output_type": "stream",
          "name": "stdout",
          "text": [
            "Shortest distances from node 0: {0: 0, 1: 2, 2: 3, 3: 6}\n"
          ]
        }
      ]
    },
    {
      "cell_type": "markdown",
      "source": [
        "# **SHORTEST PATH ALGORITHM(bellman ford algorithm)**"
      ],
      "metadata": {
        "id": "2Xc7lY9KbPmv"
      }
    },
    {
      "cell_type": "code",
      "source": [
        "def bellman_ford(V, edges, source):\n",
        "    # Step 1: Initialize distances and predecessor\n",
        "    distance = [float('inf')] * V\n",
        "    predecessor = [-1] * V\n",
        "    distance[source] = 0\n",
        "\n",
        "    # Step 2: Relax all edges V-1 times\n",
        "    for _ in range(V - 1):\n",
        "        for u, v, w in edges:\n",
        "            if distance[u] + w < distance[v]:\n",
        "                distance[v] = distance[u] + w\n",
        "                predecessor[v] = u\n",
        "\n",
        "    # Step 3: Check for negative-weight cycles\n",
        "    for u, v, w in edges:\n",
        "        if distance[u] + w < distance[v]:\n",
        "            print(\"Graph contains a negative weight cycle\")\n",
        "            return\n",
        "\n",
        "    # Print distances and paths\n",
        "    print(\"Vertex\\tDistance\\tPath\")\n",
        "    for i in range(V):\n",
        "        if distance[i] == float('inf'):\n",
        "            print(f\"{i}\\t∞\\t\\tNo path\")\n",
        "        else:\n",
        "            path = []\n",
        "            current = i\n",
        "            while current != -1:\n",
        "                path.append(current)\n",
        "                current = predecessor[current]\n",
        "            path.reverse()\n",
        "            print(f\"{i}\\t{distance[i]}\\t\\t{' -> '.join(map(str, path))}\")\n",
        "\n",
        "# Example usage\n",
        "edges = [\n",
        "    (0, 1, 4),\n",
        "    (0, 2, 5),\n",
        "    (1, 2, -3),\n",
        "    (2, 3, 4),\n",
        "    (3, 1, 6)\n",
        "]\n",
        "V = 4\n",
        "source = 0\n",
        "\n",
        "bellman_ford(V, edges, source)\n"
      ],
      "metadata": {
        "colab": {
          "base_uri": "https://localhost:8080/"
        },
        "id": "XGX80tU7bX2o",
        "outputId": "e9f89789-0429-496b-d5c0-21a78717fdc4"
      },
      "execution_count": 18,
      "outputs": [
        {
          "output_type": "stream",
          "name": "stdout",
          "text": [
            "Vertex\tDistance\tPath\n",
            "0\t0\t\t0\n",
            "1\t4\t\t0 -> 1\n",
            "2\t1\t\t0 -> 1 -> 2\n",
            "3\t5\t\t0 -> 1 -> 2 -> 3\n"
          ]
        }
      ]
    },
    {
      "cell_type": "markdown",
      "source": [
        "**RANDOMIZED ALGORITHM**"
      ],
      "metadata": {
        "id": "VEKXqHjYbpZ7"
      }
    },
    {
      "cell_type": "code",
      "source": [
        "import random\n",
        "\n",
        "def randomized_quick_sort(arr):\n",
        "    if len(arr) <= 1:\n",
        "        return arr\n",
        "\n",
        "    pivot = random.choice(arr)\n",
        "\n",
        "\n",
        "    less_than_pivot = [x for x in arr if x < pivot]\n",
        "    greater_than_pivot = [x for x in arr if x > pivot]\n",
        "\n",
        "\n",
        "    return randomized_quick_sort(less_than_pivot) + [pivot] + randomized_quick_sort(greater_than_pivot)\n",
        "\n",
        "arr = [10, 7, 8, 9, 1, 5]\n",
        "sorted_arr = randomized_quick_sort(arr)\n",
        "print(f\"Sorted array: {sorted_arr}\")\n"
      ],
      "metadata": {
        "colab": {
          "base_uri": "https://localhost:8080/"
        },
        "id": "S3DrIfuWbrf_",
        "outputId": "f6c027fb-ab9a-422d-da21-cf4887887147"
      },
      "execution_count": 19,
      "outputs": [
        {
          "output_type": "stream",
          "name": "stdout",
          "text": [
            "Sorted array: [1, 5, 7, 8, 9, 10]\n"
          ]
        }
      ]
    },
    {
      "cell_type": "markdown",
      "source": [
        "APPROXIMATION ALGORITHM\n"
      ],
      "metadata": {
        "id": "nMbQeImNbycD"
      }
    },
    {
      "cell_type": "code",
      "source": [
        "def approx_vertex_cover(graph):\n",
        "\n",
        "    cover = set()\n",
        "    edges = set()\n",
        "    for u in graph:\n",
        "        for v in graph[u]:\n",
        "            if (v, u) not in edges:\n",
        "                edges.add((u, v))\n",
        "\n",
        "    while edges:\n",
        "        (u, v) = edges.pop()\n",
        "        cover.add(u)\n",
        "        cover.add(v)\n",
        "        edges = { (x, y) for (x, y) in edges if x != u and x != v and y != u and y != v }\n",
        "\n",
        "    return cover\n",
        "graph = {\n",
        "    1: {2, 3},\n",
        "    2: {1, 4},\n",
        "    3: {1, 4},\n",
        "    4: {2, 3}\n",
        "}\n",
        "\n",
        "cover = approx_vertex_cover(graph)\n",
        "print(\"Approximate Vertex Cover:\", cover)\n"
      ],
      "metadata": {
        "colab": {
          "base_uri": "https://localhost:8080/"
        },
        "id": "iTD13bFFcGsw",
        "outputId": "23fcaeec-d48c-482c-e068-91ccf094bb9a"
      },
      "execution_count": 20,
      "outputs": [
        {
          "output_type": "stream",
          "name": "stdout",
          "text": [
            "Approximate Vertex Cover: {1, 2, 3, 4}\n"
          ]
        }
      ]
    }
  ]
}